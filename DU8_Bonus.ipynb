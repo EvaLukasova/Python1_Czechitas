{
 "cells": [
  {
   "attachments": {},
   "cell_type": "markdown",
   "metadata": {},
   "source": [
    "Stáhni si dataset, který obsahuje seznam zvířat k adopci v ZOO Praha. Zdroj dat je Národní katalog otevřených dat.\n",
    "\n",
    "Data si načti pomocí metody pandas.read_csv(). Pozor, nastav oddělovač na znak středníku. Využij parametr sep."
   ]
  },
  {
   "cell_type": "code",
   "execution_count": 61,
   "metadata": {},
   "outputs": [],
   "source": [
    "import pandas"
   ]
  },
  {
   "cell_type": "code",
   "execution_count": 62,
   "metadata": {},
   "outputs": [],
   "source": [
    "anmls=pandas.read_csv('adopce-zvirat.txt',sep=';')\n"
   ]
  },
  {
   "attachments": {},
   "cell_type": "markdown",
   "metadata": {},
   "source": [
    "\n",
    "Využij metody sort_values() (a libovolných dalších metod), ke zjištění následujících informací:\n",
    "Adopce kterých zvířat je nejdražší?"
   ]
  },
  {
   "cell_type": "code",
   "execution_count": 63,
   "metadata": {},
   "outputs": [
    {
     "name": "stdout",
     "output_type": "stream",
     "text": [
      "Nejdrazsi zvirata k adopci jsou ['Tygr sumaterský', 'Tygr ussurijský', 'Tygr malajský', 'Hroch obojživelný', 'Slon indický', 'Žirafa severní núbijská (= Rothschildova)']\n"
     ]
    }
   ],
   "source": [
    "anmls.columns\n",
    "by_price=anmls.sort_values('cena', axis = 0, ascending = False,inplace = False)\n",
    "max_price=by_price.iloc[0]['cena']\n",
    "most_expensive=by_price.loc[by_price['cena']==max_price]['nazev_cz'].to_list()\n",
    "print(f'Nejdrazsi zvirata k adopci jsou {most_expensive}')\n"
   ]
  },
  {
   "attachments": {},
   "cell_type": "markdown",
   "metadata": {},
   "source": [
    "Využij metody sort_values() (a libovolných dalších metod), ke zjištění následujících informací:\n",
    "Které zvíře je alfabeticky poslední v češtině? Které v angličtině?\n",
    "Bonus můžeš doplnit o nějaké vlastní pozorování."
   ]
  },
  {
   "cell_type": "code",
   "execution_count": 64,
   "metadata": {},
   "outputs": [
    {
     "name": "stdout",
     "output_type": "stream",
     "text": [
      "Poslední v abecede podle ceskeho jmena je Žluva hajní\n",
      "Poslední v abecede podle anglickeho jmena je Yellow-necked francolin\n"
     ]
    }
   ],
   "source": [
    "by_alphabet=anmls.sort_values('nazev_cz', axis = 0, ascending = False,inplace = False)\n",
    "last_by_name=e=by_alphabet.iloc[0]['nazev_cz']\n",
    "print(f'Poslední v abecede podle ceskeho jmena je {last_by_name}')\n",
    "by_alphabet=anmls.sort_values('nazev_en', axis = 0, ascending = False,inplace = False)\n",
    "last_by_name=e=by_alphabet.iloc[0]['nazev_en']\n",
    "print(f'Poslední v abecede podle anglickeho jmena je {last_by_name}')"
   ]
  }
 ],
 "metadata": {
  "kernelspec": {
   "display_name": "Python 3",
   "language": "python",
   "name": "python3"
  },
  "language_info": {
   "codemirror_mode": {
    "name": "ipython",
    "version": 3
   },
   "file_extension": ".py",
   "mimetype": "text/x-python",
   "name": "python",
   "nbconvert_exporter": "python",
   "pygments_lexer": "ipython3",
   "version": "3.11.1"
  },
  "orig_nbformat": 4
 },
 "nbformat": 4,
 "nbformat_minor": 2
}
